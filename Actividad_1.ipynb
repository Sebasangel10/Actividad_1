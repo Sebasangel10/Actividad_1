{
  "nbformat": 4,
  "nbformat_minor": 0,
  "metadata": {
    "colab": {
      "provenance": [],
      "authorship_tag": "ABX9TyO9HnQ/KSOzLHRlrlDjqleb",
      "include_colab_link": true
    },
    "kernelspec": {
      "name": "python3",
      "display_name": "Python 3"
    },
    "language_info": {
      "name": "python"
    }
  },
  "cells": [
    {
      "cell_type": "markdown",
      "metadata": {
        "id": "view-in-github",
        "colab_type": "text"
      },
      "source": [
        "<a href=\"https://colab.research.google.com/github/Sebasangel10/Actividad_1/blob/main/Actividad_1.ipynb\" target=\"_parent\"><img src=\"https://colab.research.google.com/assets/colab-badge.svg\" alt=\"Open In Colab\"/></a>"
      ]
    },
    {
      "cell_type": "code",
      "execution_count": 1,
      "metadata": {
        "id": "p30mWbzSWQKj"
      },
      "outputs": [],
      "source": [
        "#Importamos las librerias pandas, numpy y matplotlib respectivamente\n",
        "import pandas as pd\n",
        "import numpy as np\n",
        "import matplotlib.pyplot as plt\n",
        "import seaborn as sns"
      ]
    },
    {
      "cell_type": "code",
      "source": [
        "#cargar archivo csv desde google colab\n",
        "from google.colab import files\n",
        "files.upload()"
      ],
      "metadata": {
        "id": "SbSlD3kZWV5Z"
      },
      "execution_count": null,
      "outputs": []
    },
    {
      "cell_type": "code",
      "source": [
        "df = pd.read_excel('cuentas_credicel.xlsx')\n",
        "df"
      ],
      "metadata": {
        "id": "PMyDFjbZWckD"
      },
      "execution_count": null,
      "outputs": []
    },
    {
      "cell_type": "code",
      "source": [
        "df.info()"
      ],
      "metadata": {
        "id": "Uvfyk6V9W-Ox"
      },
      "execution_count": null,
      "outputs": []
    },
    {
      "cell_type": "code",
      "source": [
        "#Identificar valores nulos por columna\n",
        "valores_nulos=df.isnull().sum()\n",
        "valores_nulos"
      ],
      "metadata": {
        "id": "zCrCMORXYdbV"
      },
      "execution_count": null,
      "outputs": []
    },
    {
      "cell_type": "code",
      "source": [
        "df2=df.fillna(\"SinRegistro\")\n",
        "df2"
      ],
      "metadata": {
        "id": "ja2rV97XYmav"
      },
      "execution_count": null,
      "outputs": []
    },
    {
      "cell_type": "code",
      "source": [
        "#Verificamos que se eliminaron los valores nulos por columna\n",
        "valores_nulos=df2.isnull().sum()\n",
        "valores_nulos"
      ],
      "metadata": {
        "id": "Hh-jdN9XZeQk"
      },
      "execution_count": null,
      "outputs": []
    },
    {
      "cell_type": "code",
      "source": [
        "df2.to_csv(\"PrimerPrepocesamiento.csv\")"
      ],
      "metadata": {
        "id": "4IuDn4-PZqNh"
      },
      "execution_count": null,
      "outputs": []
    },
    {
      "cell_type": "code",
      "source": [
        "from google.colab import files\n",
        "\n",
        "\n",
        "files.download(\"PrimerPrepocesamiento.csv\")"
      ],
      "metadata": {
        "id": "Pt8dCifTaXkg"
      },
      "execution_count": null,
      "outputs": []
    },
    {
      "cell_type": "code",
      "source": [
        "dfl=df.copy()"
      ],
      "metadata": {
        "id": "UQHgiWqmOuo4"
      },
      "execution_count": 9,
      "outputs": []
    },
    {
      "cell_type": "code",
      "source": [
        "#Identificar valores nulos por columna\n",
        "valores_nulos=df.isnull().sum()\n",
        "valores_nulos"
      ],
      "metadata": {
        "id": "e599dM7SadDv"
      },
      "execution_count": null,
      "outputs": []
    },
    {
      "cell_type": "code",
      "source": [
        "dfl= df.iloc[ : ,[1,3,4,5,6,7,8,9,10,11,12,13,14,15,16,17,18,19,20,21,22,23,24,25,26,27,28,29,30,31,32]]\n",
        "dfl"
      ],
      "metadata": {
        "id": "W2cXAoZbRsRo"
      },
      "execution_count": null,
      "outputs": []
    },
    {
      "cell_type": "code",
      "source": [
        "dfc=df.iloc[ : ,[0,2]]\n",
        "dfc"
      ],
      "metadata": {
        "id": "CUp6u4jNSKVp"
      },
      "execution_count": null,
      "outputs": []
    },
    {
      "cell_type": "code",
      "source": [
        "#Checamos outliers\n",
        "fig = plt.figure(figsize =(15, 8))\n",
        "dfl.plot(kind='box', vert=False)\n",
        "plt.title(\"Valores Atípicos del Dataframe\")\n",
        "plt.show() #dibujamos el diagrama"
      ],
      "metadata": {
        "id": "cVXHOKzGfQN1"
      },
      "execution_count": null,
      "outputs": []
    },
    {
      "cell_type": "code",
      "source": [
        "#Método aplicando Cuartiles. Encuentro cuartiles 0.25 y 0.75\n",
        "y=dfl\n",
        "\n",
        "percentile25=y.quantile(0.25) #Q1\n",
        "percentile75=y.quantile(0.75) #Q3\n",
        "iqr= percentile75 - percentile25\n",
        "\n",
        "Limite_Superior_iqr= percentile75 + 1.5*iqr\n",
        "Limite_Inferior_iqr= percentile25 - 1.5*iqr\n",
        "print(\"Limite superior permitido\", Limite_Superior_iqr)\n",
        "print(\"Limite inferior permitido\", Limite_Inferior_iqr)"
      ],
      "metadata": {
        "id": "PjLLqhKoPbGP"
      },
      "execution_count": null,
      "outputs": []
    },
    {
      "cell_type": "code",
      "source": [
        "#Encontramos Outliers del Dataframe\n",
        "outliers_iqr= dfl[(y>Limite_Superior_iqr)|(y<Limite_Inferior_iqr)]\n",
        "outliers_iqr"
      ],
      "metadata": {
        "id": "7bpoBvKIP5Uh"
      },
      "execution_count": null,
      "outputs": []
    },
    {
      "cell_type": "code",
      "source": [
        "#Obtenemos datos limpios del Dataframe\n",
        "dflimp_iqr= dfl[(y<=Limite_Superior_iqr)&(y>=Limite_Inferior_iqr)]\n",
        "dflimp_iqr"
      ],
      "metadata": {
        "id": "AIYpoy_ZP67u"
      },
      "execution_count": null,
      "outputs": []
    },
    {
      "cell_type": "code",
      "source": [
        "#Corroboramos valores nulos del dataframe LIMPIO\n",
        "valores_nulos1=dflimp_iqr.isnull().sum()\n",
        "valores_nulos1"
      ],
      "metadata": {
        "id": "pU-USxfTP9EQ"
      },
      "execution_count": null,
      "outputs": []
    },
    {
      "cell_type": "code",
      "source": [
        "#Reemplazamos valores atípicos (nulos) del dataframe con \"mean\"\n",
        "dflimp_iqr=dflimp_iqr.copy()\n",
        "dflimp_iqr=dflimp_iqr.fillna(round(dflimp_iqr.mean(),1))\n",
        "dflimp_iqr"
      ],
      "metadata": {
        "id": "QEjn34LgP-tP"
      },
      "execution_count": null,
      "outputs": []
    },
    {
      "cell_type": "code",
      "source": [
        "# Unimos las columnas con el dataframe\n",
        "\n",
        "nonoutliers=dfc\n",
        "Datos_limpios = pd.concat([nonoutliers, dfl], axis=1)\n",
        "Datos_limpios\n",
        "\n",
        "Datos_limpios.to_csv(\"SegundoPreprosecamiento.csv\")"
      ],
      "metadata": {
        "id": "i10m8Q7tQJGq"
      },
      "execution_count": 19,
      "outputs": []
    },
    {
      "cell_type": "code",
      "source": [
        "Datos_limpios.info()"
      ],
      "metadata": {
        "id": "zRvIocdMRZJ1"
      },
      "execution_count": null,
      "outputs": []
    },
    {
      "cell_type": "code",
      "source": [
        "df.info()"
      ],
      "metadata": {
        "id": "_vuACy4gT8pB"
      },
      "execution_count": null,
      "outputs": []
    },
    {
      "cell_type": "code",
      "source": [
        "#Hacemo un dataframe con las  columnas cuantitativas que son int64 y  son numericas\n",
        "dfcuan= df.iloc[ : ,[0,2,7,8,9,10,11,12,13,16,17,19,20,21,25,27,28,29]]\n",
        "dfcuan\n",
        "#Otro con las columnas cualitativas que son objeto y no numericas\n",
        "dfcual= df.iloc[ : ,[1,3,4,5,6,14,15,18,22,23,24,26,31,32]]\n",
        "dfcual"
      ],
      "metadata": {
        "id": "55Dq7P-OSlrz"
      },
      "execution_count": null,
      "outputs": []
    },
    {
      "cell_type": "code",
      "source": [
        "dfcual.info()"
      ],
      "metadata": {
        "id": "uZ0kcJlTTm01"
      },
      "execution_count": null,
      "outputs": []
    },
    {
      "cell_type": "code",
      "source": [
        "dfcuan.info()"
      ],
      "metadata": {
        "id": "xEb0ADUCTpMP"
      },
      "execution_count": null,
      "outputs": []
    },
    {
      "cell_type": "code",
      "source": [
        "#Identificar valores nulos por columna\n",
        "valores_nulos=dfcuan.isnull().sum()\n",
        "valores_nulos"
      ],
      "metadata": {
        "id": "lqWwro8zWDq5"
      },
      "execution_count": null,
      "outputs": []
    },
    {
      "cell_type": "code",
      "source": [
        "#Identificar valores nulos por columna\n",
        "valores_nulos=dfcual.isnull().sum()\n",
        "valores_nulos"
      ],
      "metadata": {
        "id": "p21SSCnnWRcc"
      },
      "execution_count": null,
      "outputs": []
    },
    {
      "cell_type": "code",
      "source": [
        "df2=dfcuan.fillna(round(dfcuan.median(),1))\n",
        "df2"
      ],
      "metadata": {
        "id": "5Od4DItrWRGA"
      },
      "execution_count": null,
      "outputs": []
    },
    {
      "cell_type": "code",
      "source": [
        "df1=dfcual.fillna(\"SinRegistro\")\n",
        "df1"
      ],
      "metadata": {
        "id": "f0iZhaaqWadl"
      },
      "execution_count": null,
      "outputs": []
    },
    {
      "cell_type": "code",
      "source": [
        "# Unimos las columnas de cuant y cual con el dataframe\n",
        "\n",
        "nonoutliers=df2\n",
        "Datos_limpios = pd.concat([nonoutliers, df1], axis=1)\n",
        "Datos_limpios\n",
        "\n",
        "Datos_limpios.to_csv(\"SegundoPreprocesamiento.csv\")"
      ],
      "metadata": {
        "id": "hOWXzc-uqgQd"
      },
      "execution_count": 29,
      "outputs": []
    },
    {
      "cell_type": "code",
      "source": [
        "Datos_limpios.info()"
      ],
      "metadata": {
        "id": "Qh6g73oksAD2"
      },
      "execution_count": null,
      "outputs": []
    },
    {
      "cell_type": "code",
      "source": [
        "#Identificar valores nulos por columna\n",
        "valores_nulos=Datos_limpios.isnull().sum()\n",
        "valores_nulos"
      ],
      "metadata": {
        "id": "C-uEPtfHsL71"
      },
      "execution_count": null,
      "outputs": []
    }
  ]
}